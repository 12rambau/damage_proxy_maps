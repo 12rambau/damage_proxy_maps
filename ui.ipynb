{
 "cells": [
  {
   "cell_type": "code",
   "execution_count": null,
   "metadata": {},
   "outputs": [],
   "source": [
    "from sepal_ui import sepalwidgets as sw \n",
    "from component.message import ms"
   ]
  },
  {
   "cell_type": "code",
   "execution_count": null,
   "metadata": {},
   "outputs": [],
   "source": [
    "app_bar = sw.AppBar(ms.app.title)"
   ]
  },
  {
   "cell_type": "code",
   "execution_count": null,
   "metadata": {},
   "outputs": [],
   "source": [
    "%run 'about_ui.ipynb'\n",
    "%run 'process_ui.ipynb'\n",
    "\n",
    "app_content = [tile_about, tile_disclaimer, process_tile]"
   ]
  },
  {
   "cell_type": "code",
   "execution_count": null,
   "metadata": {},
   "outputs": [],
   "source": [
    "item_tile = sw.DrawerItem(ms.app.drawer_item.process, 'mdi-cogs', card=\"process_widget\").display_tile(app_content)\n",
    "item_about = sw.DrawerItem(ms.app.drawer_item.about, 'mdi-information-outline', card=\"about_widget\").display_tile(app_content)\n",
    "\n",
    "# !!! not mandatory !!! \n",
    "# Add the links to the code, wiki and issue tracker of your \n",
    "code_link = 'https://github.com/12rambau/damage_proxy_map'\n",
    "wiki_link = 'https://github.com/12rambau/damage_proxy_map/blob/master/README.md'\n",
    "issue_link = 'https://github.com/12rambau/damage_proxy_map/issues/new'\n",
    "\n",
    "# Gather all the draweritems in a list \n",
    "items = [item_about, item_tile]\n",
    "\n",
    "# Create the side drawer with all its components \n",
    "# The display_drawer() method link the drawer with the app bar\n",
    "app_drawer = sw.NavDrawer(\n",
    "    items = items, \n",
    "    code = code_link, \n",
    "    wiki = wiki_link, \n",
    "    issue = issue_link\n",
    ").display_drawer(app_bar.toggle_button)"
   ]
  },
  {
   "cell_type": "code",
   "execution_count": null,
   "metadata": {},
   "outputs": [],
   "source": [
    "app = sw.App(\n",
    "    tiles     = app_content, \n",
    "    appBar    = app_bar,  \n",
    "    navDrawer = app_drawer\n",
    ").show_tile('about_widget') "
   ]
  },
  {
   "cell_type": "code",
   "execution_count": null,
   "metadata": {},
   "outputs": [],
   "source": [
    "app"
   ]
  }
 ],
 "metadata": {
  "kernelspec": {
   "display_name": "Python 3",
   "language": "python",
   "name": "python3"
  },
  "language_info": {
   "codemirror_mode": {
    "name": "ipython",
    "version": 3
   },
   "file_extension": ".py",
   "mimetype": "text/x-python",
   "name": "python",
   "nbconvert_exporter": "python",
   "pygments_lexer": "ipython3",
   "version": "3.6.9"
  }
 },
 "nbformat": 4,
 "nbformat_minor": 4
}
